{
 "cells": [
  {
   "cell_type": "code",
   "execution_count": null,
   "id": "initial_id",
   "metadata": {
    "collapsed": true
   },
   "outputs": [],
   "source": [
    "import os\n",
    "import pandas as pd"
   ]
  },
  {
   "cell_type": "code",
   "execution_count": null,
   "outputs": [],
   "source": [
    "folder = 'date'"
   ],
   "metadata": {
    "collapsed": false
   },
   "id": "7fce37f7b2b415f2"
  },
  {
   "cell_type": "code",
   "execution_count": null,
   "outputs": [],
   "source": [
    "dfs = []"
   ],
   "metadata": {
    "collapsed": false
   },
   "id": "68af07c8eb58ab17"
  },
  {
   "cell_type": "code",
   "execution_count": null,
   "outputs": [],
   "source": [
    "for file in os.listdir(folder):\n",
    "    if file.endswith('.json'):\n",
    "        _folder = os.path.join(folder, file)\n",
    "        df = pd.read_json(_folder, orient='records')\n",
    "        if 'name_json' in df.columns:\n",
    "            df_normalized = pd.json_normalize(df['result'])\n",
    "            df = pd.concat([df, df_normalized], axis=1)\n",
    "            df = df.drop('result', axis=1)\n",
    "\n",
    "        dfs.append(df)"
   ],
   "metadata": {
    "collapsed": false
   },
   "id": "dbc468c0680e0876"
  },
  {
   "cell_type": "code",
   "execution_count": null,
   "outputs": [],
   "source": [
    "df_final = pd.concat(dfs, ignore_index=True)"
   ],
   "metadata": {
    "collapsed": false
   },
   "id": "5d7e635f3d28299a"
  },
  {
   "cell_type": "code",
   "execution_count": null,
   "outputs": [],
   "source": [
    "df_final"
   ],
   "metadata": {
    "collapsed": false
   },
   "id": "3f2b6a409fb0c332"
  }
 ],
 "metadata": {
  "kernelspec": {
   "display_name": "Python 3",
   "language": "python",
   "name": "python3"
  },
  "language_info": {
   "codemirror_mode": {
    "name": "ipython",
    "version": 2
   },
   "file_extension": ".py",
   "mimetype": "text/x-python",
   "name": "python",
   "nbconvert_exporter": "python",
   "pygments_lexer": "ipython2",
   "version": "2.7.6"
  }
 },
 "nbformat": 4,
 "nbformat_minor": 5
}
