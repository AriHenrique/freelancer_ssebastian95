{
 "cells": [
  {
   "cell_type": "code",
   "execution_count": 46,
   "id": "initial_id",
   "metadata": {
    "collapsed": true,
    "ExecuteTime": {
     "end_time": "2023-12-03T14:02:42.588565100Z",
     "start_time": "2023-12-03T14:02:42.568320Z"
    }
   },
   "outputs": [],
   "source": [
    "import os\n",
    "import pandas as pd"
   ]
  },
  {
   "cell_type": "code",
   "execution_count": 47,
   "outputs": [],
   "source": [
    "folder = 'date'"
   ],
   "metadata": {
    "collapsed": false,
    "ExecuteTime": {
     "end_time": "2023-12-03T14:02:42.588565100Z",
     "start_time": "2023-12-03T14:02:42.571923800Z"
    }
   },
   "id": "7fce37f7b2b415f2"
  },
  {
   "cell_type": "code",
   "execution_count": 48,
   "outputs": [],
   "source": [
    "dfs = []"
   ],
   "metadata": {
    "collapsed": false,
    "ExecuteTime": {
     "end_time": "2023-12-03T14:02:42.588565100Z",
     "start_time": "2023-12-03T14:02:42.575274800Z"
    }
   },
   "id": "68af07c8eb58ab17"
  },
  {
   "cell_type": "code",
   "execution_count": 49,
   "outputs": [],
   "source": [
    "for file in os.listdir(folder):\n",
    "    if file.endswith('.json'):\n",
    "        _folder = os.path.join(folder, file)\n",
    "        df = pd.read_json(_folder, orient='records')\n",
    "        if 'result' in df.columns:\n",
    "            df_normalized = pd.json_normalize(df['result'])\n",
    "            df = pd.concat([df.drop('result', axis=1), df_normalized], axis=1)\n",
    "\n",
    "        dfs.append(df)"
   ],
   "metadata": {
    "collapsed": false,
    "ExecuteTime": {
     "end_time": "2023-12-03T14:02:43.120610900Z",
     "start_time": "2023-12-03T14:02:42.582565700Z"
    }
   },
   "id": "dbc468c0680e0876"
  },
  {
   "cell_type": "code",
   "execution_count": 50,
   "outputs": [],
   "source": [
    "df_final = pd.concat(dfs, ignore_index=True).drop_duplicates()"
   ],
   "metadata": {
    "collapsed": false,
    "ExecuteTime": {
     "end_time": "2023-12-03T14:02:43.235212700Z",
     "start_time": "2023-12-03T14:02:43.121615300Z"
    }
   },
   "id": "5d7e635f3d28299a"
  },
  {
   "cell_type": "code",
   "execution_count": 51,
   "outputs": [],
   "source": [
    "df_final.to_csv('data.csv', index=False)"
   ],
   "metadata": {
    "collapsed": false,
    "ExecuteTime": {
     "end_time": "2023-12-03T14:02:43.425392200Z",
     "start_time": "2023-12-03T14:02:43.235212700Z"
    }
   },
   "id": "a85e322b542f314a"
  },
  {
   "cell_type": "code",
   "execution_count": 52,
   "outputs": [
    {
     "data": {
      "text/plain": "             date     symbol      eps  epsEstimated time       revenue  \\\n0      2018-01-01     RHM.DE  2.85000           NaN  bmo  1.722000e+09   \n1      2018-01-02     TLG.TO -0.01724           NaN  bmo           NaN   \n2      2018-01-02     4439.T      NaN           NaN  bmo           NaN   \n3      2018-01-02      ZMSPF      NaN           NaN  bmo           NaN   \n4      2018-01-02      CHXMF      NaN           NaN  bmo           NaN   \n...           ...        ...      ...           ...  ...           ...   \n60493  2023-12-03    4100.SR  0.41000           NaN  bmo  2.491896e+08   \n60494  2023-12-03     NEXS.L      NaN           NaN  bmo           NaN   \n60495  2023-12-03     0HEM.L      NaN           NaN  bmo           NaN   \n60496  2023-12-03  601963.SS      NaN           NaN  bmo           NaN   \n60497  2023-12-03     NPK.JO      NaN           NaN  bmo           NaN   \n\n       revenueEstimated fiscalDateEnding updatedFromDate  \n0                   NaN       2018-01-01      2023-08-16  \n1                   NaN       2017-10-31      2023-10-16  \n2                   NaN       2017-11-30      2023-05-17  \n3                   NaN       2018-03-31      2023-05-17  \n4                   NaN       2018-03-31      2023-05-17  \n...                 ...              ...             ...  \n60493               NaN       2023-09-30      2023-12-03  \n60494               NaN       2023-09-29      2023-12-03  \n60495               NaN       2024-03-31      2023-11-16  \n60496               NaN       2023-06-30      2023-12-03  \n60497               NaN       2023-12-31      2023-12-03  \n\n[60498 rows x 9 columns]",
      "text/html": "<div>\n<style scoped>\n    .dataframe tbody tr th:only-of-type {\n        vertical-align: middle;\n    }\n\n    .dataframe tbody tr th {\n        vertical-align: top;\n    }\n\n    .dataframe thead th {\n        text-align: right;\n    }\n</style>\n<table border=\"1\" class=\"dataframe\">\n  <thead>\n    <tr style=\"text-align: right;\">\n      <th></th>\n      <th>date</th>\n      <th>symbol</th>\n      <th>eps</th>\n      <th>epsEstimated</th>\n      <th>time</th>\n      <th>revenue</th>\n      <th>revenueEstimated</th>\n      <th>fiscalDateEnding</th>\n      <th>updatedFromDate</th>\n    </tr>\n  </thead>\n  <tbody>\n    <tr>\n      <th>0</th>\n      <td>2018-01-01</td>\n      <td>RHM.DE</td>\n      <td>2.85000</td>\n      <td>NaN</td>\n      <td>bmo</td>\n      <td>1.722000e+09</td>\n      <td>NaN</td>\n      <td>2018-01-01</td>\n      <td>2023-08-16</td>\n    </tr>\n    <tr>\n      <th>1</th>\n      <td>2018-01-02</td>\n      <td>TLG.TO</td>\n      <td>-0.01724</td>\n      <td>NaN</td>\n      <td>bmo</td>\n      <td>NaN</td>\n      <td>NaN</td>\n      <td>2017-10-31</td>\n      <td>2023-10-16</td>\n    </tr>\n    <tr>\n      <th>2</th>\n      <td>2018-01-02</td>\n      <td>4439.T</td>\n      <td>NaN</td>\n      <td>NaN</td>\n      <td>bmo</td>\n      <td>NaN</td>\n      <td>NaN</td>\n      <td>2017-11-30</td>\n      <td>2023-05-17</td>\n    </tr>\n    <tr>\n      <th>3</th>\n      <td>2018-01-02</td>\n      <td>ZMSPF</td>\n      <td>NaN</td>\n      <td>NaN</td>\n      <td>bmo</td>\n      <td>NaN</td>\n      <td>NaN</td>\n      <td>2018-03-31</td>\n      <td>2023-05-17</td>\n    </tr>\n    <tr>\n      <th>4</th>\n      <td>2018-01-02</td>\n      <td>CHXMF</td>\n      <td>NaN</td>\n      <td>NaN</td>\n      <td>bmo</td>\n      <td>NaN</td>\n      <td>NaN</td>\n      <td>2018-03-31</td>\n      <td>2023-05-17</td>\n    </tr>\n    <tr>\n      <th>...</th>\n      <td>...</td>\n      <td>...</td>\n      <td>...</td>\n      <td>...</td>\n      <td>...</td>\n      <td>...</td>\n      <td>...</td>\n      <td>...</td>\n      <td>...</td>\n    </tr>\n    <tr>\n      <th>60493</th>\n      <td>2023-12-03</td>\n      <td>4100.SR</td>\n      <td>0.41000</td>\n      <td>NaN</td>\n      <td>bmo</td>\n      <td>2.491896e+08</td>\n      <td>NaN</td>\n      <td>2023-09-30</td>\n      <td>2023-12-03</td>\n    </tr>\n    <tr>\n      <th>60494</th>\n      <td>2023-12-03</td>\n      <td>NEXS.L</td>\n      <td>NaN</td>\n      <td>NaN</td>\n      <td>bmo</td>\n      <td>NaN</td>\n      <td>NaN</td>\n      <td>2023-09-29</td>\n      <td>2023-12-03</td>\n    </tr>\n    <tr>\n      <th>60495</th>\n      <td>2023-12-03</td>\n      <td>0HEM.L</td>\n      <td>NaN</td>\n      <td>NaN</td>\n      <td>bmo</td>\n      <td>NaN</td>\n      <td>NaN</td>\n      <td>2024-03-31</td>\n      <td>2023-11-16</td>\n    </tr>\n    <tr>\n      <th>60496</th>\n      <td>2023-12-03</td>\n      <td>601963.SS</td>\n      <td>NaN</td>\n      <td>NaN</td>\n      <td>bmo</td>\n      <td>NaN</td>\n      <td>NaN</td>\n      <td>2023-06-30</td>\n      <td>2023-12-03</td>\n    </tr>\n    <tr>\n      <th>60497</th>\n      <td>2023-12-03</td>\n      <td>NPK.JO</td>\n      <td>NaN</td>\n      <td>NaN</td>\n      <td>bmo</td>\n      <td>NaN</td>\n      <td>NaN</td>\n      <td>2023-12-31</td>\n      <td>2023-12-03</td>\n    </tr>\n  </tbody>\n</table>\n<p>60498 rows × 9 columns</p>\n</div>"
     },
     "execution_count": 52,
     "metadata": {},
     "output_type": "execute_result"
    }
   ],
   "source": [
    "df_final"
   ],
   "metadata": {
    "collapsed": false,
    "ExecuteTime": {
     "end_time": "2023-12-03T14:02:43.436628100Z",
     "start_time": "2023-12-03T14:02:43.432394800Z"
    }
   },
   "id": "3f2b6a409fb0c332"
  }
 ],
 "metadata": {
  "kernelspec": {
   "display_name": "Python 3",
   "language": "python",
   "name": "python3"
  },
  "language_info": {
   "codemirror_mode": {
    "name": "ipython",
    "version": 2
   },
   "file_extension": ".py",
   "mimetype": "text/x-python",
   "name": "python",
   "nbconvert_exporter": "python",
   "pygments_lexer": "ipython2",
   "version": "2.7.6"
  }
 },
 "nbformat": 4,
 "nbformat_minor": 5
}
