{
 "cells": [
  {
   "cell_type": "code",
   "execution_count": 10,
   "id": "initial_id",
   "metadata": {
    "collapsed": true,
    "ExecuteTime": {
     "end_time": "2023-12-03T13:49:10.612436600Z",
     "start_time": "2023-12-03T13:49:10.602808300Z"
    }
   },
   "outputs": [],
   "source": [
    "import os\n",
    "import pandas as pd"
   ]
  },
  {
   "cell_type": "code",
   "execution_count": 11,
   "outputs": [],
   "source": [
    "folder = 'date'"
   ],
   "metadata": {
    "collapsed": false,
    "ExecuteTime": {
     "end_time": "2023-12-03T13:49:10.615443300Z",
     "start_time": "2023-12-03T13:49:10.606320900Z"
    }
   },
   "id": "7fce37f7b2b415f2"
  },
  {
   "cell_type": "code",
   "execution_count": 12,
   "outputs": [],
   "source": [
    "dfs = []"
   ],
   "metadata": {
    "collapsed": false,
    "ExecuteTime": {
     "end_time": "2023-12-03T13:49:10.615443300Z",
     "start_time": "2023-12-03T13:49:10.608994100Z"
    }
   },
   "id": "68af07c8eb58ab17"
  },
  {
   "cell_type": "code",
   "execution_count": 13,
   "outputs": [],
   "source": [
    "for file in os.listdir(folder):\n",
    "    if file.endswith('.json'):\n",
    "        _folder = os.path.join(folder, file)\n",
    "        df = pd.read_json(_folder, orient='records')\n",
    "        if 'result' in df.columns:\n",
    "            df_normalized = pd.json_normalize(df['result'])\n",
    "            df = pd.concat([df.drop('result', axis=1), df_normalized], axis=1)\n",
    "\n",
    "        dfs.append(df)"
   ],
   "metadata": {
    "collapsed": false,
    "ExecuteTime": {
     "end_time": "2023-12-03T13:49:11.013003900Z",
     "start_time": "2023-12-03T13:49:10.614441900Z"
    }
   },
   "id": "dbc468c0680e0876"
  },
  {
   "cell_type": "code",
   "execution_count": 14,
   "outputs": [],
   "source": [
    "df_final = pd.concat(dfs, ignore_index=True)"
   ],
   "metadata": {
    "collapsed": false,
    "ExecuteTime": {
     "end_time": "2023-12-03T13:49:11.028284200Z",
     "start_time": "2023-12-03T13:49:11.014003900Z"
    }
   },
   "id": "5d7e635f3d28299a"
  },
  {
   "cell_type": "code",
   "execution_count": 15,
   "outputs": [],
   "source": [
    "df_final.to_csv('data.csv', index=False)"
   ],
   "metadata": {
    "collapsed": false,
    "ExecuteTime": {
     "end_time": "2023-12-03T13:49:11.176253200Z",
     "start_time": "2023-12-03T13:49:11.029281200Z"
    }
   },
   "id": "a85e322b542f314a"
  },
  {
   "cell_type": "code",
   "execution_count": 16,
   "outputs": [
    {
     "data": {
      "text/plain": "             date     symbol         eps  epsEstimated time       revenue  \\\n0      2018-01-01     RHM.DE     2.85000           NaN  bmo  1.722000e+09   \n1      2018-01-02     TLG.TO    -0.01724           NaN  bmo           NaN   \n2      2018-01-02     4439.T         NaN           NaN  bmo           NaN   \n3      2018-01-02      ZMSPF         NaN           NaN  bmo           NaN   \n4      2018-01-02      CHXMF         NaN           NaN  bmo           NaN   \n...           ...        ...         ...           ...  ...           ...   \n38106  2021-05-17  357780.KQ  5327.00000       5420.33  bmo           NaN   \n38107  2021-05-17    CRDL.TO     0.26000          0.14  bmo           NaN   \n38108  2021-05-17      BUSXF         NaN           NaN  bmo           NaN   \n38109  2021-05-17       USWS    -7.35000         -3.87  bmo  7.625800e+07   \n38110  2021-05-17      QST.V     0.03000          0.01  bmo  1.548391e+06   \n\n       revenueEstimated fiscalDateEnding updatedFromDate  \n0                   NaN       2018-01-01      2023-08-16  \n1                   NaN       2017-10-31      2023-10-16  \n2                   NaN       2017-11-30      2023-05-17  \n3                   NaN       2018-03-31      2023-05-17  \n4                   NaN       2018-03-31      2023-05-17  \n...                 ...              ...             ...  \n38106      2.701500e+08       2021-03-31      2023-05-17  \n38107               NaN       2021-03-31      2023-08-25  \n38108               NaN       2021-03-31      2023-05-17  \n38109      5.308272e+07       2021-03-30      2023-08-16  \n38110               NaN       2021-03-31      2023-08-25  \n\n[38111 rows x 9 columns]",
      "text/html": "<div>\n<style scoped>\n    .dataframe tbody tr th:only-of-type {\n        vertical-align: middle;\n    }\n\n    .dataframe tbody tr th {\n        vertical-align: top;\n    }\n\n    .dataframe thead th {\n        text-align: right;\n    }\n</style>\n<table border=\"1\" class=\"dataframe\">\n  <thead>\n    <tr style=\"text-align: right;\">\n      <th></th>\n      <th>date</th>\n      <th>symbol</th>\n      <th>eps</th>\n      <th>epsEstimated</th>\n      <th>time</th>\n      <th>revenue</th>\n      <th>revenueEstimated</th>\n      <th>fiscalDateEnding</th>\n      <th>updatedFromDate</th>\n    </tr>\n  </thead>\n  <tbody>\n    <tr>\n      <th>0</th>\n      <td>2018-01-01</td>\n      <td>RHM.DE</td>\n      <td>2.85000</td>\n      <td>NaN</td>\n      <td>bmo</td>\n      <td>1.722000e+09</td>\n      <td>NaN</td>\n      <td>2018-01-01</td>\n      <td>2023-08-16</td>\n    </tr>\n    <tr>\n      <th>1</th>\n      <td>2018-01-02</td>\n      <td>TLG.TO</td>\n      <td>-0.01724</td>\n      <td>NaN</td>\n      <td>bmo</td>\n      <td>NaN</td>\n      <td>NaN</td>\n      <td>2017-10-31</td>\n      <td>2023-10-16</td>\n    </tr>\n    <tr>\n      <th>2</th>\n      <td>2018-01-02</td>\n      <td>4439.T</td>\n      <td>NaN</td>\n      <td>NaN</td>\n      <td>bmo</td>\n      <td>NaN</td>\n      <td>NaN</td>\n      <td>2017-11-30</td>\n      <td>2023-05-17</td>\n    </tr>\n    <tr>\n      <th>3</th>\n      <td>2018-01-02</td>\n      <td>ZMSPF</td>\n      <td>NaN</td>\n      <td>NaN</td>\n      <td>bmo</td>\n      <td>NaN</td>\n      <td>NaN</td>\n      <td>2018-03-31</td>\n      <td>2023-05-17</td>\n    </tr>\n    <tr>\n      <th>4</th>\n      <td>2018-01-02</td>\n      <td>CHXMF</td>\n      <td>NaN</td>\n      <td>NaN</td>\n      <td>bmo</td>\n      <td>NaN</td>\n      <td>NaN</td>\n      <td>2018-03-31</td>\n      <td>2023-05-17</td>\n    </tr>\n    <tr>\n      <th>...</th>\n      <td>...</td>\n      <td>...</td>\n      <td>...</td>\n      <td>...</td>\n      <td>...</td>\n      <td>...</td>\n      <td>...</td>\n      <td>...</td>\n      <td>...</td>\n    </tr>\n    <tr>\n      <th>38106</th>\n      <td>2021-05-17</td>\n      <td>357780.KQ</td>\n      <td>5327.00000</td>\n      <td>5420.33</td>\n      <td>bmo</td>\n      <td>NaN</td>\n      <td>2.701500e+08</td>\n      <td>2021-03-31</td>\n      <td>2023-05-17</td>\n    </tr>\n    <tr>\n      <th>38107</th>\n      <td>2021-05-17</td>\n      <td>CRDL.TO</td>\n      <td>0.26000</td>\n      <td>0.14</td>\n      <td>bmo</td>\n      <td>NaN</td>\n      <td>NaN</td>\n      <td>2021-03-31</td>\n      <td>2023-08-25</td>\n    </tr>\n    <tr>\n      <th>38108</th>\n      <td>2021-05-17</td>\n      <td>BUSXF</td>\n      <td>NaN</td>\n      <td>NaN</td>\n      <td>bmo</td>\n      <td>NaN</td>\n      <td>NaN</td>\n      <td>2021-03-31</td>\n      <td>2023-05-17</td>\n    </tr>\n    <tr>\n      <th>38109</th>\n      <td>2021-05-17</td>\n      <td>USWS</td>\n      <td>-7.35000</td>\n      <td>-3.87</td>\n      <td>bmo</td>\n      <td>7.625800e+07</td>\n      <td>5.308272e+07</td>\n      <td>2021-03-30</td>\n      <td>2023-08-16</td>\n    </tr>\n    <tr>\n      <th>38110</th>\n      <td>2021-05-17</td>\n      <td>QST.V</td>\n      <td>0.03000</td>\n      <td>0.01</td>\n      <td>bmo</td>\n      <td>1.548391e+06</td>\n      <td>NaN</td>\n      <td>2021-03-31</td>\n      <td>2023-08-25</td>\n    </tr>\n  </tbody>\n</table>\n<p>38111 rows × 9 columns</p>\n</div>"
     },
     "execution_count": 16,
     "metadata": {},
     "output_type": "execute_result"
    }
   ],
   "source": [
    "df_final"
   ],
   "metadata": {
    "collapsed": false,
    "ExecuteTime": {
     "end_time": "2023-12-03T13:49:11.186393700Z",
     "start_time": "2023-12-03T13:49:11.184257800Z"
    }
   },
   "id": "3f2b6a409fb0c332"
  }
 ],
 "metadata": {
  "kernelspec": {
   "display_name": "Python 3",
   "language": "python",
   "name": "python3"
  },
  "language_info": {
   "codemirror_mode": {
    "name": "ipython",
    "version": 2
   },
   "file_extension": ".py",
   "mimetype": "text/x-python",
   "name": "python",
   "nbconvert_exporter": "python",
   "pygments_lexer": "ipython2",
   "version": "2.7.6"
  }
 },
 "nbformat": 4,
 "nbformat_minor": 5
}
