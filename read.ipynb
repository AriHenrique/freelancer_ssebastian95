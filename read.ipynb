{
 "cells": [
  {
   "cell_type": "code",
   "execution_count": 1,
   "id": "initial_id",
   "metadata": {
    "collapsed": true,
    "ExecuteTime": {
     "end_time": "2023-12-03T12:58:24.711806800Z",
     "start_time": "2023-12-03T12:58:24.344203300Z"
    }
   },
   "outputs": [],
   "source": [
    "import os\n",
    "import pandas as pd"
   ]
  },
  {
   "cell_type": "code",
   "execution_count": 2,
   "outputs": [],
   "source": [
    "folder = 'date'"
   ],
   "metadata": {
    "collapsed": false,
    "ExecuteTime": {
     "end_time": "2023-12-03T12:58:24.720005800Z",
     "start_time": "2023-12-03T12:58:24.712628500Z"
    }
   },
   "id": "7fce37f7b2b415f2"
  },
  {
   "cell_type": "code",
   "execution_count": 3,
   "outputs": [],
   "source": [
    "dfs = []"
   ],
   "metadata": {
    "collapsed": false,
    "ExecuteTime": {
     "end_time": "2023-12-03T12:58:24.725003Z",
     "start_time": "2023-12-03T12:58:24.716639Z"
    }
   },
   "id": "68af07c8eb58ab17"
  },
  {
   "cell_type": "code",
   "execution_count": 4,
   "outputs": [],
   "source": [
    "for file in os.listdir(folder):\n",
    "    if file.endswith('.json'):\n",
    "        _folder = os.path.join(folder, file)\n",
    "        df = pd.read_json(_folder, orient='records')\n",
    "        if 'name_json' in df.columns:\n",
    "            df_normalized = pd.json_normalize(df['result'])\n",
    "            df = pd.concat([df, df_normalized], axis=1)\n",
    "            df = df.drop('result', axis=1)\n",
    "\n",
    "        dfs.append(df)"
   ],
   "metadata": {
    "collapsed": false,
    "ExecuteTime": {
     "end_time": "2023-12-03T12:58:25.204811Z",
     "start_time": "2023-12-03T12:58:24.723002900Z"
    }
   },
   "id": "dbc468c0680e0876"
  },
  {
   "cell_type": "code",
   "execution_count": 5,
   "outputs": [],
   "source": [
    "df_final = pd.concat(dfs, ignore_index=True)"
   ],
   "metadata": {
    "collapsed": false,
    "ExecuteTime": {
     "end_time": "2023-12-03T12:58:25.213251200Z",
     "start_time": "2023-12-03T12:58:25.204811Z"
    }
   },
   "id": "5d7e635f3d28299a"
  },
  {
   "cell_type": "code",
   "execution_count": 6,
   "outputs": [],
   "source": [
    "df_final.to_csv('data.csv', index=False)"
   ],
   "metadata": {
    "collapsed": false,
    "ExecuteTime": {
     "end_time": "2023-12-03T12:58:26.272050600Z",
     "start_time": "2023-12-03T12:58:25.214253800Z"
    }
   },
   "id": "a85e322b542f314a"
  },
  {
   "cell_type": "code",
   "execution_count": 7,
   "outputs": [],
   "source": [
    "# df_final"
   ],
   "metadata": {
    "collapsed": false,
    "ExecuteTime": {
     "end_time": "2023-12-03T12:58:26.274739800Z",
     "start_time": "2023-12-03T12:58:26.273636800Z"
    }
   },
   "id": "3f2b6a409fb0c332"
  }
 ],
 "metadata": {
  "kernelspec": {
   "display_name": "Python 3",
   "language": "python",
   "name": "python3"
  },
  "language_info": {
   "codemirror_mode": {
    "name": "ipython",
    "version": 2
   },
   "file_extension": ".py",
   "mimetype": "text/x-python",
   "name": "python",
   "nbconvert_exporter": "python",
   "pygments_lexer": "ipython2",
   "version": "2.7.6"
  }
 },
 "nbformat": 4,
 "nbformat_minor": 5
}
